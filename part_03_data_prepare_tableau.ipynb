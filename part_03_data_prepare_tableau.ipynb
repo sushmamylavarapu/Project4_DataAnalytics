{
 "cells": [
  {
   "cell_type": "code",
   "execution_count": 1,
   "id": "e1087b77",
   "metadata": {},
   "outputs": [],
   "source": [
    "import pandas as pd"
   ]
  },
  {
   "cell_type": "code",
   "execution_count": 3,
   "id": "c8b61618",
   "metadata": {},
   "outputs": [],
   "source": [
    "df = pd.read_csv('Resources/movie_tableau.csv')"
   ]
  },
  {
   "cell_type": "code",
   "execution_count": 4,
   "id": "e450ae44",
   "metadata": {},
   "outputs": [
    {
     "data": {
      "text/plain": [
       "Index(['id', 'imdb_id', 'all_genres', 'key_genre', 'spoken_language', 'origin',\n",
       "       'release_year', 'runtime', 'title', 'overview', 'tagline', 'budget',\n",
       "       'revenue', 'rating_tmdb', 'votes_tmdb', 'awards', 'director', 'writer',\n",
       "       'actors', 'plot', 'rating_imdb', 'votes_imdb', 'rating_rotten_tomatoes',\n",
       "       'rating_metacritic', 'rating_intranet', 'label_genre', 'label_language',\n",
       "       'label_origin'],\n",
       "      dtype='object')"
      ]
     },
     "execution_count": 4,
     "metadata": {},
     "output_type": "execute_result"
    }
   ],
   "source": [
    "df.columns"
   ]
  },
  {
   "cell_type": "code",
   "execution_count": 8,
   "id": "33350fee",
   "metadata": {},
   "outputs": [
    {
     "data": {
      "text/plain": [
       "Comedy                                                   329\n",
       "Drama                                                    314\n",
       "Drama, Romance                                           144\n",
       "Comedy, Drama                                            127\n",
       "Comedy, Romance                                          123\n",
       "                                                        ... \n",
       "Fantasy, Action, Horror                                    1\n",
       "Animation, Adventure, Comedy, Family, Fantasy, Horror      1\n",
       "Family, Comedy, Fantasy, Animation                         1\n",
       "Action, Crime, Drama, History, Thriller                    1\n",
       "Adventure, Comedy, Family, Romance                         1\n",
       "Name: all_genres, Length: 1372, dtype: int64"
      ]
     },
     "execution_count": 8,
     "metadata": {},
     "output_type": "execute_result"
    }
   ],
   "source": [
    "df.all_genres.value_counts()"
   ]
  }
 ],
 "metadata": {
  "kernelspec": {
   "display_name": "Python 3 (ipykernel)",
   "language": "python",
   "name": "python3"
  },
  "language_info": {
   "codemirror_mode": {
    "name": "ipython",
    "version": 3
   },
   "file_extension": ".py",
   "mimetype": "text/x-python",
   "name": "python",
   "nbconvert_exporter": "python",
   "pygments_lexer": "ipython3",
   "version": "3.10.9"
  }
 },
 "nbformat": 4,
 "nbformat_minor": 5
}
