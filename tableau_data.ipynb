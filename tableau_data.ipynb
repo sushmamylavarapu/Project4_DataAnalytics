{
 "cells": [
  {
   "cell_type": "code",
   "execution_count": 1,
   "id": "e1087b77",
   "metadata": {},
   "outputs": [],
   "source": [
    "import pandas as pd"
   ]
  },
  {
   "cell_type": "code",
   "execution_count": 2,
   "id": "c8b61618",
   "metadata": {},
   "outputs": [],
   "source": [
    "df = pd.read_csv('Resources/movie_tableau.csv')"
   ]
  },
  {
   "cell_type": "code",
   "execution_count": 3,
   "id": "e450ae44",
   "metadata": {},
   "outputs": [
    {
     "data": {
      "text/plain": [
       "Index(['id', 'imdb_id', 'all_genres', 'key_genre', 'spoken_language', 'origin',\n",
       "       'release_year', 'runtime', 'title', 'overview', 'tagline', 'budget',\n",
       "       'revenue', 'rating_tmdb', 'votes_tmdb', 'awards', 'director', 'writer',\n",
       "       'actors', 'plot', 'rating_imdb', 'votes_imdb', 'rating_rotten_tomatoes',\n",
       "       'rating_metacritic', 'rating_intranet', 'label_genre', 'label_language',\n",
       "       'label_origin'],\n",
       "      dtype='object')"
      ]
     },
     "execution_count": 3,
     "metadata": {},
     "output_type": "execute_result"
    }
   ],
   "source": [
    "df.columns"
   ]
  },
  {
   "cell_type": "code",
   "execution_count": 4,
   "id": "33350fee",
   "metadata": {},
   "outputs": [
    {
     "data": {
      "text/plain": [
       "Comedy                                                   329\n",
       "Drama                                                    314\n",
       "Drama, Romance                                           144\n",
       "Comedy, Drama                                            127\n",
       "Comedy, Romance                                          123\n",
       "                                                        ... \n",
       "Fantasy, Action, Horror                                    1\n",
       "Animation, Adventure, Comedy, Family, Fantasy, Horror      1\n",
       "Family, Comedy, Fantasy, Animation                         1\n",
       "Action, Crime, Drama, History, Thriller                    1\n",
       "Adventure, Comedy, Family, Romance                         1\n",
       "Name: all_genres, Length: 1372, dtype: int64"
      ]
     },
     "execution_count": 4,
     "metadata": {},
     "output_type": "execute_result"
    }
   ],
   "source": [
    "df.all_genres.value_counts()"
   ]
  },
  {
   "cell_type": "code",
   "execution_count": 5,
   "id": "a77f4502",
   "metadata": {},
   "outputs": [
    {
     "data": {
      "text/plain": [
       "(4997, 28)"
      ]
     },
     "execution_count": 5,
     "metadata": {},
     "output_type": "execute_result"
    }
   ],
   "source": [
    "df.shape"
   ]
  },
  {
   "cell_type": "code",
   "execution_count": 6,
   "id": "6e5a1f3a",
   "metadata": {},
   "outputs": [
    {
     "data": {
      "text/plain": [
       "<bound method DataFrame.dropna of           id    imdb_id                                        all_genres  \\\n",
       "0        278  tt0111161                                      Drama, Crime   \n",
       "1        424  tt0108052                               Drama, History, War   \n",
       "2     569094  tt9362722                      Animation, Action, Adventure   \n",
       "3        129  tt0245429                        Animation, Family, Fantasy   \n",
       "4     496243  tt6751668                           Comedy, Thriller, Drama   \n",
       "...      ...        ...                                               ...   \n",
       "4992   19912  tt1144884                                   Horror, Mystery   \n",
       "4993  823461  tt8231668                                   Comedy, Romance   \n",
       "4994  582607  tt8743064  Science Fiction, Drama, Adventure, Crime, Action   \n",
       "4995  300467  tt2251281                                  Horror, Thriller   \n",
       "4996   10603  tt0119190                Adventure, Comedy, Family, Romance   \n",
       "\n",
       "            key_genre spoken_language                    origin  release_year  \\\n",
       "0               Crime         English  United States of America          1994   \n",
       "1                 War          German  United States of America          1993   \n",
       "2           Animation         English  United States of America          2023   \n",
       "3           Animation        Japanese                     Japan          2001   \n",
       "4            Thriller         English               South Korea          2019   \n",
       "...               ...             ...                       ...           ...   \n",
       "4992          Mystery         English  United States of America          2009   \n",
       "4993          Romance         English  United States of America          2021   \n",
       "4994  Science Fiction         English  United States of America          2019   \n",
       "4995           Horror         English  United States of America          2014   \n",
       "4996           Family         English  United States of America          1997   \n",
       "\n",
       "      runtime                                title  \\\n",
       "0         142             The Shawshank Redemption   \n",
       "1         195                     Schindler's List   \n",
       "2         140  Spider-Man: Across the Spider-Verse   \n",
       "3         125                        Spirited Away   \n",
       "4         133                             Parasite   \n",
       "...       ...                                  ...   \n",
       "4992       82                The Final Destination   \n",
       "4993       92                        Good on Paper   \n",
       "4994       86                    See You Yesterday   \n",
       "4995       97                   Dark Was the Night   \n",
       "4996       92                 George of the Jungle   \n",
       "\n",
       "                                               overview  ...  \\\n",
       "0     Framed in the 1940s for the double murder of h...  ...   \n",
       "1     The true story of how businessman Oskar Schind...  ...   \n",
       "2     After reuniting with Gwen Stacy, Brooklyn’s fu...  ...   \n",
       "3     A young girl, Chihiro, becomes trapped in a st...  ...   \n",
       "4     All unemployed, Ki-taek's family takes peculia...  ...   \n",
       "...                                                 ...  ...   \n",
       "4992  After a young man's premonition of a deadly ra...  ...   \n",
       "4993  After years of putting her career ahead of lov...  ...   \n",
       "4994  As two teen prodigies try to master the art of...  ...   \n",
       "4995  An evil is unleashed in a small town when a lo...  ...   \n",
       "4996  Deep in the African jungle, a baby named Georg...  ...   \n",
       "\n",
       "                                                 actors  \\\n",
       "0               Tim Robbins, Morgan Freeman, Bob Gunton   \n",
       "1              Liam Neeson, Ralph Fiennes, Ben Kingsley   \n",
       "2     Shameik Moore, Hailee Steinfeld, Brian Tyree H...   \n",
       "3          Daveigh Chase, Suzanne Pleshette, Miyu Irino   \n",
       "4             Song Kang-ho, Lee Sun-kyun, Cho Yeo-jeong   \n",
       "...                                                 ...   \n",
       "4992           Nick Zano, Krista Allen, Andrew Fiscella   \n",
       "4993  Iliza Shlesinger, Britney Young, Christopher N...   \n",
       "4994           Eden Duncan-Smith, Dante Crichlow, Astro   \n",
       "4995           Kevin Durand, Lukas Haas, Bianca Kajlich   \n",
       "4996   Brendan Fraser, Leslie Mann, Thomas Haden Church   \n",
       "\n",
       "                                                   plot  rating_imdb  \\\n",
       "0     Over the course of several years, two convicts...          9.0   \n",
       "1     In German-occupied Poland during World War II,...          9.0   \n",
       "2     Miles Morales catapults across the Multiverse,...          9.0   \n",
       "3     During her family's move to the suburbs, a sul...          9.0   \n",
       "4     Greed and class discrimination threaten the ne...          8.0   \n",
       "...                                                 ...          ...   \n",
       "4992  A horrifying premonition saves a young man and...          5.0   \n",
       "4993  After years of putting her career first, a sta...          6.0   \n",
       "4994  Two Brooklyn teenage prodigies, C.J. Walker an...          5.0   \n",
       "4995  An evil is unleashed in a small town when a lo...          6.0   \n",
       "4996  A man raised in the jungle by apes falls in lo...          6.0   \n",
       "\n",
       "      votes_imdb  rating_rotten_tomatoes rating_metacritic rating_intranet  \\\n",
       "0      2802199.0                     9.0               8.0             9.0   \n",
       "1      1404593.0                    10.0              10.0             9.0   \n",
       "2       252325.0                    10.0               9.0             9.0   \n",
       "3       807746.0                    10.0              10.0             9.0   \n",
       "4       891596.0                    10.0              10.0             8.0   \n",
       "...          ...                     ...               ...             ...   \n",
       "4992    111703.0                     3.0               3.0             5.0   \n",
       "4993     13475.0                     5.0               5.0             6.0   \n",
       "4994     11378.0                     9.0               7.0             5.0   \n",
       "4995     10805.0                     5.0               4.0             6.0   \n",
       "4996     82654.0                     6.0               5.0             6.0   \n",
       "\n",
       "          label_genre label_language              label_origin  \n",
       "0               Crime        English  United States of America  \n",
       "1                 War         German  United States of America  \n",
       "2           Animation        English  United States of America  \n",
       "3           Animation       Japanese                     Japan  \n",
       "4            Thriller        English               South Korea  \n",
       "...               ...            ...                       ...  \n",
       "4992          Mystery        English  United States of America  \n",
       "4993          Romance        English  United States of America  \n",
       "4994  Science Fiction        English  United States of America  \n",
       "4995           Horror        English  United States of America  \n",
       "4996           Family        English  United States of America  \n",
       "\n",
       "[4997 rows x 28 columns]>"
      ]
     },
     "execution_count": 6,
     "metadata": {},
     "output_type": "execute_result"
    }
   ],
   "source": [
    "df.dropna"
   ]
  },
  {
   "cell_type": "code",
   "execution_count": null,
   "id": "f9ac2f0c",
   "metadata": {},
   "outputs": [],
   "source": []
  }
 ],
 "metadata": {
  "kernelspec": {
   "display_name": "Python 3 (ipykernel)",
   "language": "python",
   "name": "python3"
  },
  "language_info": {
   "codemirror_mode": {
    "name": "ipython",
    "version": 3
   },
   "file_extension": ".py",
   "mimetype": "text/x-python",
   "name": "python",
   "nbconvert_exporter": "python",
   "pygments_lexer": "ipython3",
   "version": "3.10.9"
  }
 },
 "nbformat": 4,
 "nbformat_minor": 5
}
